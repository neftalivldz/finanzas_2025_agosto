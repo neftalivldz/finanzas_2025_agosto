{
 "cells": [
  {
   "cell_type": "code",
   "execution_count": 10,
   "id": "cbb28c5a-fa98-4ff8-b144-b077ce01fa3e",
   "metadata": {},
   "outputs": [],
   "source": [
    "from datetime import date\n"
   ]
  },
  {
   "cell_type": "code",
   "execution_count": 11,
   "id": "e5e4eb3a-7921-4c0b-8d85-27a1fc3b0c6a",
   "metadata": {},
   "outputs": [],
   "source": [
    "portfolio = {\n",
    "    date(2025,1,1): {\n",
    "    \"cash\": 1000,\n",
    "    \"IBM.O\": 20,\n",
    "    \"NVDA.O\": 15\n",
    "    },\n",
    "    date(2025,1,2): {\n",
    "    \"cash\": 1000,\n",
    "    \"IBM.O\": 10,\n",
    "    \"NVDA.O\": 10\n",
    "    },\n",
    "    date(2025,1,3): {\n",
    "    \"cash\": 1000,\n",
    "    \"IBM.O\": 20,\n",
    "    \"NVDA.O\": 35\n",
    "    }\n",
    "}"
   ]
  },
  {
   "cell_type": "code",
   "execution_count": 12,
   "id": "6c2f6dd1-2ec4-4dc2-83f7-21b8ab33ab13",
   "metadata": {},
   "outputs": [
    {
     "data": {
      "text/plain": [
       "{datetime.date(2025, 1, 1): {'cash': 1000, 'IBM.O': 20, 'NVDA.O': 15},\n",
       " datetime.date(2025, 1, 2): {'cash': 1000, 'IBM.O': 10, 'NVDA.O': 10},\n",
       " datetime.date(2025, 1, 3): {'cash': 1000, 'IBM.O': 20, 'NVDA.O': 35}}"
      ]
     },
     "execution_count": 12,
     "metadata": {},
     "output_type": "execute_result"
    }
   ],
   "source": [
    "portfolio"
   ]
  },
  {
   "cell_type": "code",
   "execution_count": 13,
   "id": "617d76d1-d5a7-40f3-a0f4-f6fa7d8885a5",
   "metadata": {},
   "outputs": [],
   "source": [
    "portfolio.get('2025-01-01')"
   ]
  },
  {
   "cell_type": "code",
   "execution_count": 14,
   "id": "488a99a2-121c-4ff1-bdf4-5c5d0a3df70d",
   "metadata": {},
   "outputs": [
    {
     "data": {
      "text/plain": [
       "dict_keys([datetime.date(2025, 1, 1), datetime.date(2025, 1, 2), datetime.date(2025, 1, 3)])"
      ]
     },
     "execution_count": 14,
     "metadata": {},
     "output_type": "execute_result"
    }
   ],
   "source": [
    "portfolio.keys()"
   ]
  },
  {
   "cell_type": "code",
   "execution_count": 15,
   "id": "67fedb39-a413-4a57-8751-4792ea521931",
   "metadata": {},
   "outputs": [
    {
     "name": "stdout",
     "output_type": "stream",
     "text": [
      "2025-01-01\n"
     ]
    }
   ],
   "source": [
    "# Convert the keys view object to a list\n",
    "keys_list = min(list(portfolio.keys()))\n",
    "\n",
    "print(keys_list)"
   ]
  },
  {
   "cell_type": "code",
   "execution_count": 16,
   "id": "21bb169d-0130-47be-bb89-7fa3780b307e",
   "metadata": {},
   "outputs": [
    {
     "data": {
      "text/plain": [
       "datetime.date(2025, 1, 1)"
      ]
     },
     "execution_count": 16,
     "metadata": {},
     "output_type": "execute_result"
    }
   ],
   "source": [
    "min(list(portfolio.keys()))"
   ]
  },
  {
   "cell_type": "code",
   "execution_count": null,
   "id": "815f3fa1-a63b-4c90-8387-e6b57ef27e49",
   "metadata": {},
   "outputs": [],
   "source": [
    "get a list of al "
   ]
  }
 ],
 "metadata": {
  "kernelspec": {
   "display_name": "Python 3 (ipykernel)",
   "language": "python",
   "name": "python3"
  },
  "language_info": {
   "codemirror_mode": {
    "name": "ipython",
    "version": 3
   },
   "file_extension": ".py",
   "mimetype": "text/x-python",
   "name": "python",
   "nbconvert_exporter": "python",
   "pygments_lexer": "ipython3",
   "version": "3.11.13"
  }
 },
 "nbformat": 4,
 "nbformat_minor": 5
}
