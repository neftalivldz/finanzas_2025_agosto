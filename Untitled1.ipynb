{
 "cells": [
  {
   "cell_type": "code",
   "execution_count": 2,
   "id": "18896ba1-1d24-4ee8-b6f6-812dc53dee65",
   "metadata": {},
   "outputs": [],
   "source": [
    "#!pip install DatastreamPy"
   ]
  },
  {
   "cell_type": "code",
   "execution_count": null,
   "id": "82e7bddb-47ed-4f3a-a862-194a0a05cb78",
   "metadata": {},
   "outputs": [],
   "source": [
    "import DatastreamPy as dsws \n",
    "import pandas as pd from datetime \n",
    "import date, datetime, timedelta\n",
    "import matplotlib.pyplot as plt\n",
    "ds = dsws.DataClient(username='patrick.brady@lseg.com*,password-********)"
   ]
  },
  {
   "cell_type": "code",
   "execution_count": null,
   "id": "f0ff4cb8-886c-4cad-9901-457abacda5d7",
   "metadata": {},
   "outputs": [],
   "source": [
    "def get_top_10_names_and_mv(ticker, date_label, start_date):\n",
    "    # Pull NAME and MV fields\n",
    "    raw_data=ds.get_data(tickers=ticker, fields=['NAME','MV'],\n",
    "                         start=start_date, kind=0)\n",
    "    # Reshape from long to wide\n",
    "    reshaped=raw_data.pivot(index='Instrument', columns='Datatype',\n",
    "                            values='Value').reset_index()\n",
    "    reshaped=reshaped.rename(columns={'NAME':f'NAME ({date_label})','MV':f'MARKET VALUE ({date_label})'})\n",
    "    # Clean and sort\n",
    "    reshaped=reshaped.dropna(subset=[f'MARKET VALUE ({date_label})'])\n",
    "    reshaped[f'MARKET VALUE ({date_label})']=pd.to_numeric(\n",
    "        reshaped[f'MARKET␣↪VALUE ({date_label})'], errors='coerce')\n",
    "    reshaped=reshaped.sort_values(by=f'MARKET VALUE ({date_label})',\n",
    "                                  ascending=False).reset_index(drop=True)\n",
    "    # Return top 10 with name and market value\n",
    "    return reshaped[[f'NAME ({date_label})',f'MARKET VALUE ({date_label})']].↪head(10).reset_index(drop=True)\n",
    "    \n",
    "# Pull top 10 for each year\n",
    "top10_2025=get_top_10_names_and_mv('LS&PCOMP','2025','0D')\n",
    "top10_2015=get_top_10_names_and_mv('LS&PCOMP0715','2015','2015-07-07')\n",
    "top10_2005=get_top_10_names_and_mv('LS&PCOMP0705','2005','2005-07-07')\n",
    "top10_1995=get_top_10_names_and_mv('LS&PCOMP0795','1995','1995-07-07')\n",
    "# Combine all four into a side-by-side comparison\n",
    "top10_combined=pd.concat([top10_2025, top10_2015, top10_2005, top10_1995],axis=1)\n",
    "# Display\n",
    "display(top10_combined)\n"
   ]
  }
 ],
 "metadata": {
  "kernelspec": {
   "display_name": "Python 3 (ipykernel)",
   "language": "python",
   "name": "python3"
  },
  "language_info": {
   "codemirror_mode": {
    "name": "ipython",
    "version": 3
   },
   "file_extension": ".py",
   "mimetype": "text/x-python",
   "name": "python",
   "nbconvert_exporter": "python",
   "pygments_lexer": "ipython3",
   "version": "3.11.13"
  }
 },
 "nbformat": 4,
 "nbformat_minor": 5
}
