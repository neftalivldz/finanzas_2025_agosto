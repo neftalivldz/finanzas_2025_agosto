{
 "cells": [
  {
   "cell_type": "code",
   "execution_count": 1,
   "id": "be104a9f-5e41-4353-99b6-e762ca205384",
   "metadata": {},
   "outputs": [],
   "source": [
    "import lseg.data as ld\n",
    "import pandas as pd\n",
    "from lseg.data.content import news\n",
    "from IPython.display import HTML"
   ]
  },
  {
   "cell_type": "code",
   "execution_count": 2,
   "id": "cbb28c5a-fa98-4ff8-b144-b077ce01fa3e",
   "metadata": {},
   "outputs": [],
   "source": [
    "from langchain_ollama.chat_models import ChatOllama\n",
    "\n",
    "# ChatNVIDIA.get_available_models()\n",
    "llm = ChatOllama(model=\"llama3.1:8b-instruct-q8_0\", temperature=0,)\n"
   ]
  },
  {
   "cell_type": "code",
   "execution_count": 3,
   "id": "a18823c1-d82c-457d-815b-98f37be215ae",
   "metadata": {},
   "outputs": [
    {
     "data": {
      "text/plain": [
       "<lseg.data.session.Definition object at 0x125d4f010 {name='workspace'}>"
      ]
     },
     "execution_count": 3,
     "metadata": {},
     "output_type": "execute_result"
    }
   ],
   "source": [
    "ld.open_session()"
   ]
  },
  {
   "cell_type": "code",
   "execution_count": 4,
   "id": "12d9eda0-31cf-44b0-ac2d-53289ce81303",
   "metadata": {},
   "outputs": [
    {
     "name": "stdout",
     "output_type": "stream",
     "text": [
      "urn:newsml:reuters.com:20250930:nL2N3VH0HA\n"
     ]
    }
   ],
   "source": [
    "definition = news.top_news.hierarchy.Definition()\n",
    "response = definition.get_data()\n",
    "energy_top_news_id = response.data.hierarchy['Commodities']['Energy'].top_news_id\n",
    "definition = news.top_news.Definition(energy_top_news_id)\n",
    "news_response = definition.get_data()\n",
    "print(news_response.data.df['storyId'].iloc(0)[0])"
   ]
  },
  {
   "cell_type": "code",
   "execution_count": 5,
   "id": "c85a91d3-1059-4c71-8fc3-defecdf3394d",
   "metadata": {},
   "outputs": [
    {
     "data": {
      "text/html": [
       "<div lang=\"en\"><ul class=\"bulleted-list arrowlist\"><li class=\"tr-summaryitem\">OPEC+ may accelerate hikes after adding 137,000 bpd in Oct</li><li class=\"tr-summaryitem\">November hike could be 2 or 3 times the size of October hike</li><li class=\"tr-summaryitem\">Russia uncomfortable with large hike, source says</li><li class=\"tr-summaryitem\">Eight OPEC+ countries meet on Sunday</li></ul><p class=\"tr-advisory\">Adds more sources, OPEC statement on X</p><p class=\"tr-by\">By Alex Lawler, Olesya Astakhova and Dmitry Zhdannikov</p><p class=\"tr-story-p1\"><span class=\"tr-dateline\">LONDON, Sept 30 (Reuters)</span><span class=\"tr-dl-sep\"> - </span>OPEC+ may speed up production increases in November from the 137,000 barrels per day hike it made for October at its meeting on Sunday as <span class=\"tr-strong\">its</span> leader Saudi Arabia pushes to regain market share, three sources familiar with the talks said.</p><p><span class=\"tr-strong\">The group has made no final decision yet and member Russia could oppose a larger increase because it is unable to raise output owing to Western sanctions and is worried about weakening seasonal demand, one of the three sources said.</span></p><p><span class=\"tr-strong\">Eight members of OPEC+ could agree to raise production in November by 274,000-411,000 bpd, or two or three times higher than the October increase, two of the three sources said. OPEC+ pumps about half of the world's oil.</span></p><p></p><p><span class=\"tr-strong\">WINDING DOWN LAYERS OF CUTS</span></p><p><span class=\"tr-strong\">The increase could be as big as 500,000 bpd, one of the three sources said. </span></p><p><span class=\"tr-strong\">Earlier on Tuesday, Bloomberg News reported that OPEC+ was considering accelerating its increases by 500,000 bpd. </span></p><p><span class=\"tr-strong\">OPEC in a </span><a href=\"reuters://REALTIME/verb=NewsStory/ric=nFWN3VH0IM\" data-type=\"storyId\" data-story-id=\"nFWN3VH0IM\" dir=\"ltr\" class=\"tr-pnac\">post on X</a><span class=\"tr-strong\"> said it rejected media reports for plans to raise output by 500,000 bpd, calling them inaccurate and misleading.</span></p><p><span class=\"tr-strong\">Authorities in Saudi Arabia did not immediately respond to a request for comment.</span></p><p>\n",
       "        OPEC+ <span class=\"tr-strong\">in April </span><a href=\"reuters://REALTIME/verb=NewsStory/ric=nL5N3N60M5\" data-type=\"storyId\" data-story-id=\"nL5N3N60M5\" dir=\"ltr\" class=\"tr-pnac\">reversed its strategy</a> of output cuts and has already raised quotas by more than 2.5 million bpd, or about 2.4% of world demand, to boost market share and following pressure from <a href=\"https://www.reuters.com/world/us/donald-trump/\" data-type=\"url\" class=\"tr-link\" translate=\"no\">U.S. President Donald Trump</a> to lower oil prices.</p><p><span class=\"tr-strong\">The group has raised output in monthly chunks ranging from as little as 137,000 bpd to as much as 548,000 bpd.</span></p><p>\n",
       "        Eight OPEC+ countries will hold an online meeting on October 5 to decide on November output. OPEC+ includes the Organization of the Petroleum Exporting Countries, Russia and other allies.</p><p><span class=\"tr-strong\">At their peak, </span>OPEC+'s total output reductions amounted to 5.85 million bpd, made up of three different elements - voluntary cuts of 2.2 million bpd, plus 1.65 million bpd by eight members, and another 2.0 million bpd by the whole group.</p><p>The eight producers plan to fully unwind one element of those cuts - 2.2 million bpd - by the end of September. For October, they started removing a second layer, of 1.65 million bpd, with the increase of 137,000 bpd.</p><p><br/></p><p class=\"tr-signoff\"> (Reporting by Alex Lawler, Dmitry Zhdannikov and Olesya Astakhova. Additional reporting by Maha El Dahan. Editing by David Goodman, Mark Potter and Marguerita Choy)</p><p class=\"tr-contactinfo\">(( <a href=\"mailto:alex.lawler@thomsonreuters.com\" data-type=\"email\" translate=\"no\">alex.lawler@thomsonreuters.com</a> ))</p></div>"
      ],
      "text/plain": [
       "<IPython.core.display.HTML object>"
      ]
     },
     "metadata": {},
     "output_type": "display_data"
    }
   ],
   "source": [
    "#Retrieve the first top news story\n",
    "storyId = news_response.data.df[\"storyId\"].iloc(0)[0]\n",
    "news_story = ld.news.get_story(storyId)\n",
    "with open('news_story.html', 'w+') as f:\n",
    "    f.write(news_story)\n",
    "    \n",
    "display(HTML(news_story))"
   ]
  },
  {
   "cell_type": "code",
   "execution_count": 6,
   "id": "e5e4eb3a-7921-4c0b-8d85-27a1fc3b0c6a",
   "metadata": {},
   "outputs": [
    {
     "data": {
      "text/plain": [
       "[Document(metadata={'source': 'news_story.html', 'title': ''}, page_content=\"OPEC+ may accelerate hikes after adding 137,000 bpd in OctNovember hike could be 2 or 3 times the size of October hikeRussia uncomfortable with large hike, source saysEight OPEC+ countries meet on SundayAdds more sources, OPEC statement on XBy Alex Lawler, Olesya Astakhova and Dmitry ZhdannikovLONDON, Sept 30 (Reuters) - OPEC+ may speed up production increases in November from the 137,000 barrels per day hike it made for October at its meeting on Sunday as its leader Saudi Arabia pushes to regain market share, three sources familiar with the talks said.The group has made no final decision yet and member Russia could oppose a larger increase because it is unable to raise output owing to Western sanctions and is worried about weakening seasonal demand, one of the three sources said.Eight members of OPEC+ could agree to raise production in November by 274,000-411,000 bpd, or two or three times higher than the October increase, two of the three sources said. OPEC+ pumps about half of the world's oil.WINDING DOWN LAYERS OF CUTSThe increase could be as big as 500,000 bpd, one of the three sources said. Earlier on Tuesday, Bloomberg News reported that OPEC+ was considering accelerating its increases by 500,000 bpd. OPEC in a post on X said it rejected media reports for plans to raise output by 500,000 bpd, calling them inaccurate and misleading.Authorities in Saudi Arabia did not immediately respond to a request for comment.\\n        OPEC+ in April reversed its strategy of output cuts and has already raised quotas by more than 2.5 million bpd, or about 2.4% of world demand, to boost market share and following pressure from U.S. President Donald Trump to lower oil prices.The group has raised output in monthly chunks ranging from as little as 137,000 bpd to as much as 548,000 bpd.\\n        Eight OPEC+ countries will hold an online meeting on October 5 to decide on November output. OPEC+ includes the Organization of the Petroleum Exporting Countries, Russia and other allies.At their peak, OPEC+'s total output reductions amounted to 5.85 million bpd, made up of three different elements - voluntary cuts of 2.2 million bpd, plus 1.65 million bpd by eight members, and another 2.0 million bpd by the whole group.The eight producers plan to fully unwind one element of those cuts - 2.2 million bpd - by the end of September. For October, they started removing a second layer, of 1.65 million bpd, with the increase of 137,000 bpd. (Reporting by Alex Lawler, Dmitry Zhdannikov and Olesya Astakhova. Additional reporting by Maha El Dahan. Editing by David Goodman, Mark Potter and Marguerita Choy)(( alex.lawler@thomsonreuters.com ))\")]"
      ]
     },
     "execution_count": 6,
     "metadata": {},
     "output_type": "execute_result"
    }
   ],
   "source": [
    "from langchain_community.document_loaders import BSHTMLLoader\n",
    "\n",
    "loader = BSHTMLLoader('news_story.html')\n",
    "docs = loader.load()\n",
    "docs"
   ]
  },
  {
   "cell_type": "code",
   "execution_count": 10,
   "id": "617d76d1-d5a7-40f3-a0f4-f6fa7d8885a5",
   "metadata": {},
   "outputs": [
    {
     "name": "stdout",
     "output_type": "stream",
     "text": [
      "content=\"Here is a concise summary of the article:\\n\\nOPEC+ (Organization of the Petroleum Exporting Countries and its allies) may increase oil production by 274,000-411,000 barrels per day (bpd) in November, which is two to three times higher than the October increase. This decision will be made at an online meeting on Sunday. Russia may oppose a larger increase due to Western sanctions limiting its output and concerns about weakening seasonal demand.\\n\\nAs for how this will affect Shell prices, it's difficult to predict with certainty. However, if OPEC+ does decide to increase production by 274,000-411,000 bpd, it could lead to:\\n\\n* Increased oil supply in the market\\n* Potential downward pressure on oil prices\\n* Reduced demand for oil from refineries like Shell, which may lead to lower refining margins and potentially lower gasoline prices at the pump.\\n\\nHowever, if OPEC+ decides to increase production by 500,000 bpd or more, as some sources suggest, it could lead to:\\n\\n* A significant increase in oil supply\\n* A sharp decline in oil prices\\n* Reduced demand for oil from refineries like Shell, which may lead to lower refining margins and potentially lower gasoline prices at the pump.\\n\\nIt's worth noting that the impact on Shell prices will depend on various factors, including global demand, refinery utilization rates, and other market conditions.\" additional_kwargs={} response_metadata={'model': 'llama3.1:8b-instruct-q8_0', 'created_at': '2025-10-01T02:27:42.707594Z', 'done': True, 'done_reason': 'stop', 'total_duration': 49512986667, 'load_duration': 91992250, 'prompt_eval_count': 679, 'prompt_eval_duration': 1247341292, 'eval_count': 282, 'eval_duration': 48169868541, 'model_name': 'llama3.1:8b-instruct-q8_0'} id='run--3c3dc646-4e13-41b6-9dcc-61ee60fa7911-0' usage_metadata={'input_tokens': 679, 'output_tokens': 282, 'total_tokens': 961}\n"
     ]
    }
   ],
   "source": [
    "from langchain.chains.combine_documents import create_stuff_documents_chain\n",
    "from langchain.chains.llm import LLMChain\n",
    "from langchain_core.prompts import ChatPromptTemplate\n",
    "\n",
    "\n",
    "prompt = ChatPromptTemplate.from_template(\"\"\"Write a concise summary of the following: '{context}' and tell me how it will affect Shell price\"\"\")\n",
    "\n",
    "# Instantiate chain\n",
    "chain = prompt | llm\n",
    "\n",
    "# Invoke chain\n",
    "result = chain.invoke({\"context\": docs})\n",
    "print(result)"
   ]
  },
  {
   "cell_type": "code",
   "execution_count": 11,
   "id": "0c88304f-9f3a-42e1-96d4-73a1d4078a97",
   "metadata": {},
   "outputs": [
    {
     "name": "stdout",
     "output_type": "stream",
     "text": [
      "Here is a concise summary of the article:\n",
      "\n",
      "OPEC+ (Organization of the Petroleum Exporting Countries and its allies) may increase oil production by 274,000-411,000 barrels per day (bpd) in November, which is two to three times higher than the October increase. This decision will be made at an online meeting on Sunday. Russia may oppose a larger increase due to Western sanctions limiting its output and concerns about weakening seasonal demand.\n",
      "\n",
      "As for how this will affect Shell prices, it's difficult to predict with certainty. However, if OPEC+ does decide to increase production by 274,000-411,000 bpd, it could lead to:\n",
      "\n",
      "* Increased oil supply in the market\n",
      "* Potential downward pressure on oil prices\n",
      "* Reduced demand for oil from refineries like Shell, which may lead to lower refining margins and potentially lower gasoline prices at the pump.\n",
      "\n",
      "However, if OPEC+ decides to increase production by 500,000 bpd or more, as some sources suggest, it could lead to:\n",
      "\n",
      "* A significant increase in oil supply\n",
      "* A sharp decline in oil prices\n",
      "* Reduced demand for oil from refineries like Shell, which may lead to lower refining margins and potentially lower gasoline prices at the pump.\n",
      "\n",
      "It's worth noting that the impact on Shell prices will depend on various factors, including global demand, refinery utilization rates, and other market conditions.\n"
     ]
    }
   ],
   "source": [
    "print(result.content)"
   ]
  },
  {
   "cell_type": "code",
   "execution_count": null,
   "id": "0421b58b-1e81-4dae-b26f-42a73d909039",
   "metadata": {},
   "outputs": [],
   "source": []
  }
 ],
 "metadata": {
  "kernelspec": {
   "display_name": "Python 3 (ipykernel)",
   "language": "python",
   "name": "python3"
  },
  "language_info": {
   "codemirror_mode": {
    "name": "ipython",
    "version": 3
   },
   "file_extension": ".py",
   "mimetype": "text/x-python",
   "name": "python",
   "nbconvert_exporter": "python",
   "pygments_lexer": "ipython3",
   "version": "3.11.13"
  }
 },
 "nbformat": 4,
 "nbformat_minor": 5
}
