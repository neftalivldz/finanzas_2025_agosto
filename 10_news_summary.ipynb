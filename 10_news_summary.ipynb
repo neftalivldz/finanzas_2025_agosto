{
 "cells": [
  {
   "cell_type": "code",
   "execution_count": 2,
   "id": "be104a9f-5e41-4353-99b6-e762ca205384",
   "metadata": {},
   "outputs": [],
   "source": [
    "import lseg.data as ld\n",
    "import pandas as pd\n",
    "from lseg.data.content import news\n",
    "from IPython.display import HTML"
   ]
  },
  {
   "cell_type": "code",
   "execution_count": 1,
   "id": "cbb28c5a-fa98-4ff8-b144-b077ce01fa3e",
   "metadata": {},
   "outputs": [],
   "source": [
    "from langchain_ollama.chat_models import ChatOllama\n",
    "\n",
    "# ChatNVIDIA.get_available_models()\n",
    "llm = ChatOllama(model=\"llama3.1:8b-instruct-q8_0\", temperature=0,)\n"
   ]
  },
  {
   "cell_type": "code",
   "execution_count": 3,
   "id": "a18823c1-d82c-457d-815b-98f37be215ae",
   "metadata": {},
   "outputs": [
    {
     "data": {
      "text/plain": [
       "<lseg.data.session.Definition object at 0x13ff5cc50 {name='workspace'}>"
      ]
     },
     "execution_count": 3,
     "metadata": {},
     "output_type": "execute_result"
    }
   ],
   "source": [
    "ld.open_session()"
   ]
  },
  {
   "cell_type": "code",
   "execution_count": 10,
   "id": "12d9eda0-31cf-44b0-ac2d-53289ce81303",
   "metadata": {},
   "outputs": [
    {
     "name": "stdout",
     "output_type": "stream",
     "text": [
      "urn:newsml:reuters.com:20250930:nL3N3VH0SJ\n"
     ]
    }
   ],
   "source": [
    "definition = news.top_news.hierarchy.Definition()\n",
    "response = definition.get_data()\n",
    "energy_top_news_id = response.data.hierarchy['Commodities']['Energy'].top_news_id\n",
    "definition = news.top_news.Definition(energy_top_news_id)\n",
    "news_response = definition.get_data()\n",
    "print(news_response.data.df['storyId'].iloc(0)[0])"
   ]
  },
  {
   "cell_type": "code",
   "execution_count": 26,
   "id": "c85a91d3-1059-4c71-8fc3-defecdf3394d",
   "metadata": {},
   "outputs": [
    {
     "data": {
      "text/html": [
       "<div lang=\"en\"><ul class=\"bulleted-list arrowlist\"><li class=\"tr-summaryitem\">Exxon restructuring affects 3-4% of global workforce</li><li class=\"tr-summaryitem\">No US job cuts planned, half in Canadian unit Imperial Oil</li><li class=\"tr-summaryitem\">Oil price slump prompts industry-wide job cuts, efficiency measures</li></ul><p class=\"tr-advisory\">Adds detail about layoffs across EU; background on EU corporate sustainability law</p><p class=\"tr-by\">By Sheila Dang and Vallari  Srivastava</p><p class=\"tr-story-p1\"><span class=\"tr-dateline\">HOUSTON, Sept 30 (Reuters)</span><span class=\"tr-dl-sep\"> - </span><span class=\"tr-strong\">Top U.S. oil major</span> Exxon Mobil <a href=\"reuters://REALTIME/Verb=FullQuote/ric=XOM.N\" data-type=\"ric\" data-ric=\"XOM.N\" translate=\"no\" dir=\"ltr\">XOM.N</a><span class=\"tr-strong\">said on Tuesday</span> it will lay off 2,000 workers globally, <span class=\"tr-strong\">particularly in Canada and across the European Union</span>, as part of a long-term restructuring plan <span class=\"tr-strong\">that will affect</span> about 3% to 4% of the company's workforce.</p><p><span class=\"tr-strong\">About 1,200 positions will be cut in Norway and the EU by the end of 2027, Exxon said in a statement.</span></p><p>There are no planned job cuts in the U.S., and <span class=\"tr-strong\">the layoffs </span>announced <span class=\"tr-strong\">on Monday </span>at <a href=\"reuters://REALTIME/verb=NewsStory/ric=nL3N3VG1GI\" data-type=\"storyId\" data-story-id=\"nL3N3VG1GI\" dir=\"ltr\" class=\"tr-pnac\">Canadian oil producer Imperial Oil</a><a href=\"reuters://REALTIME/Verb=FullQuote/ric=IMO.TO\" data-type=\"ric\" data-ric=\"IMO.TO\" translate=\"no\" dir=\"ltr\">IMO.TO</a>, of which Exxon is a majority owner, account for about half of the broader cuts confirmed <span class=\"tr-strong\">on Tuesday</span>, a company spokesperson <span class=\"tr-strong\">added</span>.</p><p>Faced with a slump in global crude oil prices as the OPEC+ group of oil producers has <a href=\"reuters://REALTIME/verb=NewsStory/ric=nL5N3VF02B\" data-type=\"storyId\" data-story-id=\"nL5N3VF02B\" dir=\"ltr\" class=\"tr-pnac\">increased output</a>, energy companies have <a href=\"reuters://REALTIME/verb=NewsStory/ric=nL3N3VH0LG\" data-type=\"storyId\" data-story-id=\"nL3N3VH0LG\" dir=\"ltr\" class=\"tr-pnac\">announced</a> thousands of job cuts this year to rein in costs while they contend with lower profits. </p><p>Houston-based Exxon said it aimed to improve efficiency by having employees work from the same locations. </p><p>\"Our global office network was established decades ago under very different circumstances. To support the collaboration so critical to our success, we are aligning our global footprint with our operating model and bringing our teams together,\" a spokesperson said in an emailed statement. </p><p>Bloomberg first reported on the number of affected jobs earlier on Tuesday.</p><p>E<span class=\"tr-strong\">xxon shares were down about 1.2% at $112.80 in midday trading.</span></p><p></p><p>EXXON CUTS JOBS IN EUROPE AMID REGULATORY SCRUTINY </p><p><span class=\"tr-strong\">Exxon said it will build a new office at its Antwerp refinery in Belgium that will house a new European Technology Centre and most Brussels-based Exxon employees. It will close some smaller offices across the EU.</span></p><p><span class=\"tr-strong\">The job cuts in Europe come as Exxon CEO Darren Woods has stepped up criticism against an EU corporate sustainability law that threatens a fine of 5% of global sales if companies do not identify and fix environmental issues within their supply chains. </span></p><p><span class=\"tr-strong\">In an </span><a href=\"reuters://REALTIME/verb=NewsStory/ric=nL6N3V30V5\" data-type=\"storyId\" data-story-id=\"nL6N3V30V5\" dir=\"ltr\" class=\"tr-pnac\">interview with Reuters</a><span class=\"tr-strong\"> earlier this month, Woods said the law would lead to more businesses leaving Europe and called for the regulation to be revoked. </span></p><p><span class=\"tr-strong\">\"The business and regulatory environment in Europe is challenging and this transformation will help us compete into the future,\" Exxon Mobil Europe President Philippe Ducom said in the statement on Tuesday, adding that the company would still maintain a meaningful presence in what it said is an important market.</span></p><p><span class=\"tr-strong\">Globally, </span>oil producers are increasingly consolidating office locations to work more efficiently and save money. </p><p>Chevron <span class=\"tr-strong\"><a href=\"reuters://REALTIME/Verb=FullQuote/ric=CVX.N\" data-type=\"ric\" data-ric=\"CVX.N\" translate=\"no\" dir=\"ltr\">CVX.N</a></span>, the second-largest U.S. oil producer after Exxon, said in February that it would lay off up to <a href=\"reuters://REALTIME/verb=NewsStory/ric=nL6N3P30MU\" data-type=\"storyId\" data-story-id=\"nL6N3P30MU\" dir=\"ltr\" class=\"tr-pnac\">20% of its global workforce</a> and expand the use of global centers, which includes an engineering hub in Bengaluru.</p><p>ConocoPhillips also said earlier this month it would cut <a href=\"reuters://REALTIME/verb=NewsStory/ric=nL6N3UQ0XL\" data-type=\"storyId\" data-story-id=\"nL6N3UQ0XL\" dir=\"ltr\" class=\"tr-pnac\">20% to 25%</a> of employees.</p><p>U.S. oil and gas production jobs fell by 4,700 in the first six months of this year, Texas labor market statistics showed.</p><p>Activity levels in the key U.S. producing states of Texas, Louisiana and New Mexico declined slightly in the third quarter, with several industry executives reporting significant delays in investment decisions in response to price volatility, according to a survey by the <a href=\"reuters://REALTIME/verb=NewsStory/ric=nL2N3VB0KD\" data-type=\"storyId\" data-story-id=\"nL2N3VB0KD\" dir=\"ltr\" class=\"tr-pnac\">Federal Reserve Bank of Dallas</a>. </p><p>Benchmark Brent crude <span class=\"tr-strong\">futures</span><a href=\"reuters://REALTIME/Verb=FullQuote/ric=LCOc1\" data-type=\"ric\" data-ric=\"LCOc1\" translate=\"no\" dir=\"ltr\">LCOc1</a> are down about 10.5% year-to-date, impacted by increased OPEC+ output and persistent demand uncertainty tied to the U.S. trade policy.</p><p>Exxon employed 61,000 people globally at the end of 2024, according to a regulatory filing.</p><p><br/></p><p class=\"tr-signoff\"> (Reporting by Sheila Dang in Houston and Vallari Srivastava in Bengaluru; Editing by Mrigank Dhaniwala, Sriraj Kalluvila, Nick Zieminski and Marguerita Choy)</p><p class=\"tr-contactinfo\">(( <a href=\"mailto:Srivastava.Vallari@thomsonreuters.com\" data-type=\"email\" translate=\"no\">Srivastava.Vallari@thomsonreuters.com</a> ;))</p></div>"
      ],
      "text/plain": [
       "<IPython.core.display.HTML object>"
      ]
     },
     "metadata": {},
     "output_type": "display_data"
    }
   ],
   "source": [
    "#Retrieve the first top news story\n",
    "storyId = news_response.data.df[\"storyId\"].iloc(0)[0]\n",
    "news_story = ld.news.get_story(storyId)\n",
    "with open('news_story.html', 'w+') as f:\n",
    "    f.write(news_story)\n",
    "    \n",
    "display(HTML(news_story))"
   ]
  },
  {
   "cell_type": "code",
   "execution_count": 27,
   "id": "e5e4eb3a-7921-4c0b-8d85-27a1fc3b0c6a",
   "metadata": {},
   "outputs": [
    {
     "data": {
      "text/plain": [
       "[Document(metadata={'source': 'news_story.html', 'title': ''}, page_content='Exxon restructuring affects 3-4% of global workforceNo US job cuts planned, half in Canadian unit Imperial OilOil price slump prompts industry-wide job cuts, efficiency measuresAdds detail about layoffs across EU; background on EU corporate sustainability lawBy Sheila Dang and Vallari  SrivastavaHOUSTON, Sept 30 (Reuters) - Top U.S. oil major Exxon Mobil XOM.Nsaid on Tuesday it will lay off 2,000 workers globally, particularly in Canada and across the European Union, as part of a long-term restructuring plan that will affect about 3% to 4% of the company\\'s workforce.About 1,200 positions will be cut in Norway and the EU by the end of 2027, Exxon said in a statement.There are no planned job cuts in the U.S., and the layoffs announced on Monday at Canadian oil producer Imperial OilIMO.TO, of which Exxon is a majority owner, account for about half of the broader cuts confirmed on Tuesday, a company spokesperson added.Faced with a slump in global crude oil prices as the OPEC+ group of oil producers has increased output, energy companies have announced thousands of job cuts this year to rein in costs while they contend with lower profits. Houston-based Exxon said it aimed to improve efficiency by having employees work from the same locations. \"Our global office network was established decades ago under very different circumstances. To support the collaboration so critical to our success, we are aligning our global footprint with our operating model and bringing our teams together,\" a spokesperson said in an emailed statement. Bloomberg first reported on the number of affected jobs earlier on Tuesday.Exxon shares were down about 1.2% at $112.80 in midday trading.EXXON CUTS JOBS IN EUROPE AMID REGULATORY SCRUTINY Exxon said it will build a new office at its Antwerp refinery in Belgium that will house a new European Technology Centre and most Brussels-based Exxon employees. It will close some smaller offices across the EU.The job cuts in Europe come as Exxon CEO Darren Woods has stepped up criticism against an EU corporate sustainability law that threatens a fine of 5% of global sales if companies do not identify and fix environmental issues within their supply chains. In an interview with Reuters earlier this month, Woods said the law would lead to more businesses leaving Europe and called for the regulation to be revoked. \"The business and regulatory environment in Europe is challenging and this transformation will help us compete into the future,\" Exxon Mobil Europe President Philippe Ducom said in the statement on Tuesday, adding that the company would still maintain a meaningful presence in what it said is an important market.Globally, oil producers are increasingly consolidating office locations to work more efficiently and save money. Chevron CVX.N, the second-largest U.S. oil producer after Exxon, said in February that it would lay off up to 20% of its global workforce and expand the use of global centers, which includes an engineering hub in Bengaluru.ConocoPhillips also said earlier this month it would cut 20% to 25% of employees.U.S. oil and gas production jobs fell by 4,700 in the first six months of this year, Texas labor market statistics showed.Activity levels in the key U.S. producing states of Texas, Louisiana and New Mexico declined slightly in the third quarter, with several industry executives reporting significant delays in investment decisions in response to price volatility, according to a survey by the Federal Reserve Bank of Dallas. Benchmark Brent crude futuresLCOc1 are down about 10.5% year-to-date, impacted by increased OPEC+ output and persistent demand uncertainty tied to the U.S. trade policy.Exxon employed 61,000 people globally at the end of 2024, according to a regulatory filing. (Reporting by Sheila Dang in Houston and Vallari Srivastava in Bengaluru; Editing by Mrigank Dhaniwala, Sriraj Kalluvila, Nick Zieminski and Marguerita Choy)(( Srivastava.Vallari@thomsonreuters.com ;))')]"
      ]
     },
     "execution_count": 27,
     "metadata": {},
     "output_type": "execute_result"
    }
   ],
   "source": [
    "from langchain_community.document_loaders import BSHTMLLoader\n",
    "\n",
    "loader = BSHTMLLoader('news_story.html')\n",
    "docs = loader.load()\n",
    "docs"
   ]
  },
  {
   "cell_type": "code",
   "execution_count": 28,
   "id": "617d76d1-d5a7-40f3-a0f4-f6fa7d8885a5",
   "metadata": {},
   "outputs": [
    {
     "name": "stdout",
     "output_type": "stream",
     "text": [
      "Here is a concise summary of the article:\n",
      "\n",
      "Exxon Mobil will lay off 2,000 workers globally, about 3-4% of its workforce, as part of a restructuring plan. The layoffs will primarily affect Canada and the European Union, with no job cuts planned in the US. The company aims to improve efficiency by consolidating office locations and having employees work from the same locations. This move comes amid a slump in global crude oil prices and increased competition among energy companies. Exxon's CEO has also criticized an EU corporate sustainability law that threatens fines for environmental issues, which may have contributed to the decision to reduce its European presence.\n"
     ]
    }
   ],
   "source": [
    "from langchain.chains.combine_documents import create_stuff_documents_chain\n",
    "from langchain.chains.llm import LLMChain\n",
    "from langchain_core.prompts import ChatPromptTemplate\n",
    "\n",
    "\n",
    "prompt = ChatPromptTemplate.from_template(\"\"\"Write a concise summary of the following: '{context}'\"\"\")\n",
    "\n",
    "# Instantiate chain\n",
    "chain = create_stuff_documents_chain(llm, prompt)\n",
    "\n",
    "# Invoke chain\n",
    "result = chain.invoke({\"context\": docs})\n",
    "print(result)"
   ]
  }
 ],
 "metadata": {
  "kernelspec": {
   "display_name": "Python 3 (ipykernel)",
   "language": "python",
   "name": "python3"
  },
  "language_info": {
   "codemirror_mode": {
    "name": "ipython",
    "version": 3
   },
   "file_extension": ".py",
   "mimetype": "text/x-python",
   "name": "python",
   "nbconvert_exporter": "python",
   "pygments_lexer": "ipython3",
   "version": "3.11.13"
  }
 },
 "nbformat": 4,
 "nbformat_minor": 5
}
