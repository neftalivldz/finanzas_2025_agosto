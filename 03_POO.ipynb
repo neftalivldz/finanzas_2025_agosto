{
 "cells": [
  {
   "cell_type": "code",
   "execution_count": 1,
   "id": "4c451ca3-4928-4c3d-8366-fe6914c69d63",
   "metadata": {},
   "outputs": [],
   "source": [
    "from datafromsource import DataFromSource"
   ]
  },
  {
   "cell_type": "code",
   "execution_count": 2,
   "id": "14764051-9eff-4dde-98e7-50af63d7875c",
   "metadata": {},
   "outputs": [
    {
     "name": "stdout",
     "output_type": "stream",
     "text": [
      "Help on class DataFromSource in module datafromsource:\n",
      "\n",
      "class DataFromSource(builtins.object)\n",
      " |  DataFromSource(ric)\n",
      " |  \n",
      " |  Methods defined here:\n",
      " |  \n",
      " |  __init__(self, ric)\n",
      " |      Initialize self.  See help(type(self)) for accurate signature.\n",
      " |  \n",
      " |  __str__(self)\n",
      " |      Return str(self).\n",
      " |  \n",
      " |  ----------------------------------------------------------------------\n",
      " |  Data descriptors defined here:\n",
      " |  \n",
      " |  __dict__\n",
      " |      dictionary for instance variables\n",
      " |  \n",
      " |  __weakref__\n",
      " |      list of weak references to the object\n",
      "\n"
     ]
    }
   ],
   "source": [
    "help(DataFromSource)"
   ]
  },
  {
   "cell_type": "code",
   "execution_count": 4,
   "id": "55a5acb0-93c3-48df-a89a-5371e97fa1fe",
   "metadata": {},
   "outputs": [
    {
     "name": "stdout",
     "output_type": "stream",
     "text": [
      "AAPL.O\n"
     ]
    }
   ],
   "source": [
    "aapl = DataFromSource('AAPL.O')\n",
    "print(aapl)"
   ]
  },
  {
   "cell_type": "code",
   "execution_count": null,
   "id": "e8d62948-f366-4850-b0be-ae40084cbdf4",
   "metadata": {},
   "outputs": [],
   "source": []
  }
 ],
 "metadata": {
  "kernelspec": {
   "display_name": "Python 3 (ipykernel)",
   "language": "python",
   "name": "python3"
  },
  "language_info": {
   "codemirror_mode": {
    "name": "ipython",
    "version": 3
   },
   "file_extension": ".py",
   "mimetype": "text/x-python",
   "name": "python",
   "nbconvert_exporter": "python",
   "pygments_lexer": "ipython3",
   "version": "3.11.13"
  }
 },
 "nbformat": 4,
 "nbformat_minor": 5
}
